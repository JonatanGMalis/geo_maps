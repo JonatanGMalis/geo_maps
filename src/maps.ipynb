{
 "cells": [
  {
   "cell_type": "code",
   "execution_count": null,
   "id": "620867a0-5b0f-48ae-a4fd-29936ee6bd12",
   "metadata": {},
   "outputs": [],
   "source": [
    "from urllib.request import urlopen\n",
    "import json\n",
    "import pandas as pd\n",
    "import plotly.graph_objects as go"
   ]
  },
  {
   "cell_type": "code",
   "execution_count": null,
   "id": "6beed810-1bb3-4ad6-b15c-6330a9860db6",
   "metadata": {},
   "outputs": [],
   "source": [
    "df = pd.read_csv(\"https://raw.githubusercontent.com/plotly/datasets/master/fips-unemp-16.csv\",\n",
    "                   dtype={\"fips\": str})"
   ]
  },
  {
   "cell_type": "code",
   "execution_count": null,
   "id": "148e9a4b-716c-41b8-a750-6d00ababc25f",
   "metadata": {},
   "outputs": [],
   "source": [
    "with urlopen('https://raw.githubusercontent.com/plotly/datasets/master/geojson-counties-fips.json') as response:\n",
    "    counties = json.load(response)"
   ]
  },
  {
   "cell_type": "code",
   "execution_count": null,
   "id": "9873dd26-2217-406a-a933-9566eac782ab",
   "metadata": {},
   "outputs": [],
   "source": [
    "with urlopen('https://raw.githubusercontent.com/plotly/datasets/master/geojson-counties-fips.json') as response:\n",
    "    counties = json.load(response)\n",
    "df = pd.read_csv(\"https://raw.githubusercontent.com/plotly/datasets/master/fips-unemp-16.csv\",\n",
    "                   dtype={\"fips\": str})\n",
    "fig = go.Figure(go.Choroplethmapbox(geojson=counties, locations=df.fips, z=df.unemp,\n",
    "                                    colorscale=\"Viridis\", zmin=0, zmax=12,\n",
    "                                    marker_opacity=0.5, marker_line_width=0))\n",
    "fig.update_layout(mapbox_style=\"open-street-map\",\n",
    "                  mapbox_zoom=3, mapbox_center = {\"lat\": 37.0902, \"lon\": -95.7129})\n",
    "fig.update_layout(margin={\"r\":0,\"t\":0,\"l\":0,\"b\":0})\n",
    "fig.show()"
   ]
  },
  {
   "cell_type": "code",
   "execution_count": null,
   "id": "5b680a48-ff86-4e27-95eb-669e6c5532d5",
   "metadata": {},
   "outputs": [],
   "source": []
  },
  {
   "cell_type": "code",
   "execution_count": null,
   "id": "d72f1e34-2f5b-443d-bb67-a9b1e9f35025",
   "metadata": {},
   "outputs": [],
   "source": [
    "df.head()"
   ]
  },
  {
   "cell_type": "code",
   "execution_count": null,
   "id": "6c36061e-c548-4f23-9b7e-56388a235c64",
   "metadata": {},
   "outputs": [],
   "source": []
  },
  {
   "cell_type": "code",
   "execution_count": null,
   "id": "ee3c63ce-f53f-4325-8d8e-eaabcd2f51a0",
   "metadata": {},
   "outputs": [],
   "source": [
    "from urllib.request import urlopen\n",
    "import json\n",
    "import pandas as pd\n",
    "import plotly.graph_objects as go\n",
    "\n",
    "# Load county geojson data\n",
    "with urlopen('https://raw.githubusercontent.com/plotly/datasets/master/geojson-counties-fips.json') as response:\n",
    "    counties = json.load(response)\n",
    "\n",
    "# Load unemployment data\n",
    "df = pd.read_csv(\"https://raw.githubusercontent.com/plotly/datasets/master/fips-unemp-16.csv\", dtype={\"fips\": str})\n",
    "\n",
    "# Create choropleth map\n",
    "fig = go.Figure(go.Choroplethmapbox(geojson=counties,\n",
    "                                    locations=df.fips,\n",
    "                                    z=df.unemp,\n",
    "                                    colorscale=\"Viridis\",\n",
    "                                    zmin=0,\n",
    "                                    zmax=12,\n",
    "                                    marker_opacity=0.5,\n",
    "                                    marker_line_width=0))\n",
    "\n",
    "# Add scatter plot with longitude and latitude within the same mapbox layer\n",
    "fig.add_trace(go.Scattermapbox(\n",
    "    lon=[-100, -90, -80, -70],  # Example longitude data\n",
    "    lat=[35, 40, 45, 50],       # Example latitude data\n",
    "    mode='markers',\n",
    "    marker=dict(\n",
    "        size=10,\n",
    "        color='red',\n",
    "        opacity=0.8,\n",
    "    ),\n",
    "    text=['Marker 1', 'Marker 2', 'Marker 3', 'Marker 4'],  # Example text labels\n",
    "))\n",
    "\n",
    "# Update layout for mapbox\n",
    "fig.update_layout(\n",
    "    mapbox_style=\"open-street-map\",\n",
    "    mapbox_zoom=3,\n",
    "    mapbox_center={\"lat\": 37.0902, \"lon\": -95.7129}\n",
    ")\n",
    "\n",
    "# Update overall layout\n",
    "fig.update_layout(margin={\"r\": 0, \"t\": 0, \"l\": 0, \"b\": 0})\n",
    "\n",
    "# Show the figure\n",
    "fig.show()\n"
   ]
  },
  {
   "cell_type": "code",
   "execution_count": null,
   "id": "c2d0ef2e-a4e5-4bc9-b0ed-29b0a0e667bb",
   "metadata": {},
   "outputs": [],
   "source": []
  },
  {
   "cell_type": "code",
   "execution_count": null,
   "id": "014059b3-9bd1-4267-a945-51df558d5ffa",
   "metadata": {},
   "outputs": [],
   "source": []
  },
  {
   "cell_type": "code",
   "execution_count": null,
   "id": "9e4d544e-2acb-4170-b061-57b9edd0aca8",
   "metadata": {},
   "outputs": [],
   "source": [
    "import pydeck as pdk\n",
    "\n",
    "UK_ACCIDENTS_DATA = 'https://raw.githubusercontent.com/visgl/deck.gl-data/master/examples/3d-heatmap/heatmap-data.csv'\n",
    "\n",
    "layer = pdk.Layer(\n",
    "    'HexagonLayer',  # `type` positional argument is here\n",
    "    UK_ACCIDENTS_DATA,\n",
    "    get_position=['lng', 'lat'],\n",
    "    auto_highlight=True,\n",
    "    elevation_scale=50,\n",
    "    pickable=True,\n",
    "    elevation_range=[0, 3000],\n",
    "    extruded=True,\n",
    "    coverage=1)\n",
    "\n",
    "# Set the viewport location\n",
    "view_state = pdk.ViewState(\n",
    "    longitude=-1.415,\n",
    "    latitude=52.2323,\n",
    "    zoom=6,\n",
    "    min_zoom=5,\n",
    "    max_zoom=15,\n",
    "    pitch=40.5,\n",
    "    bearing=-27.36\n",
    ")\n",
    "\n",
    "# Combined all of it and render a viewport\n",
    "r = pdk.Deck(layers=[layer], initial_view_state=view_state)\n",
    "r.to_html('hexagon-example.html')"
   ]
  },
  {
   "cell_type": "code",
   "execution_count": null,
   "id": "1e60c592-13e0-43aa-b47b-4448ad0a40d4",
   "metadata": {},
   "outputs": [],
   "source": []
  },
  {
   "cell_type": "code",
   "execution_count": null,
   "id": "dce78ec4-5dbe-4523-8d6a-57af60ca4b86",
   "metadata": {},
   "outputs": [],
   "source": [
    "import pydeck\n",
    "\n",
    "DATA_URL = \"https://raw.githubusercontent.com/visgl/deck.gl-data/master/examples/geojson/vancouver-blocks.json\"\n",
    "LAND_COVER = [[[-123.0, 49.196], [-123.0, 49.324], [-123.306, 49.324], [-123.306, 49.196]]]\n",
    "\n",
    "INITIAL_VIEW_STATE = pydeck.ViewState(\n",
    "  latitude=49.254,\n",
    "  longitude=-123.13,\n",
    "  zoom=11,\n",
    "  max_zoom=16,\n",
    "  pitch=45,\n",
    "  bearing=-27.36\n",
    ")\n",
    "\n",
    "polygon = pydeck.Layer(\n",
    "    'PolygonLayer',\n",
    "    LAND_COVER,\n",
    "    stroked=False,\n",
    "    # processes the data as a flat longitude-latitude pair\n",
    "    get_polygon='-',\n",
    "    get_fill_color=[0, 0, 0, 20]\n",
    ")\n",
    "\n",
    "geojson = pydeck.Layer(\n",
    "    'GeoJsonLayer',\n",
    "    DATA_URL,\n",
    "    opacity=0.8,\n",
    "    stroked=False,\n",
    "    filled=True,\n",
    "    extruded=True,\n",
    "    wireframe=True,\n",
    "    get_elevation='properties.valuePerSqm / 20',\n",
    "    get_fill_color='[255, 255, properties.growth * 255]',\n",
    "    get_line_color=[255, 255, 255],\n",
    "    auto_highlight=True,\n",
    "\n",
    "    pickable=True\n",
    ")\n",
    "\n",
    "r = pydeck.Deck(\n",
    "    layers=[polygon, geojson],\n",
    "    initial_view_state=INITIAL_VIEW_STATE)\n",
    "\n",
    "r.to_html()"
   ]
  },
  {
   "cell_type": "code",
   "execution_count": null,
   "id": "06bfdd68-7803-4f2e-95ed-923f69e77745",
   "metadata": {},
   "outputs": [],
   "source": []
  },
  {
   "cell_type": "code",
   "execution_count": null,
   "id": "a31d1ed9-a4eb-4bca-b92a-728dd119e6de",
   "metadata": {},
   "outputs": [],
   "source": []
  },
  {
   "cell_type": "code",
   "execution_count": null,
   "id": "ef6203bf-5a59-43cf-baee-d51e6923876f",
   "metadata": {},
   "outputs": [],
   "source": [
    "import json\n",
    "import pandas as pd\n",
    "import pydeck as pdk\n",
    "from urllib.request import urlopen\n",
    "\n",
    "# Load county GeoJSON data\n",
    "with urlopen('https://raw.githubusercontent.com/plotly/datasets/master/geojson-counties-fips.json') as response:\n",
    "    counties = json.load(response)\n",
    "\n",
    "# Load unemployment data\n",
    "df = pd.read_csv(\"https://raw.githubusercontent.com/plotly/datasets/master/fips-unemp-16.csv\", dtype={\"fips\": str})\n",
    "\n",
    "# Update properties in GeoJSON data\n",
    "for i in range(len(counties['features'])):\n",
    "    feature = counties['features'][i]\n",
    "    fips = feature['properties']['GEO_ID'][9:]  # Extract FIPS code from GEO_ID\n",
    "    if fips in df['fips'].values:\n",
    "        unemp_value = df[df['fips'] == fips]['unemp'].values[0]  # Get 'unemp' value for the FIPS code\n",
    "        feature['properties']['unemp'] = unemp_value  # Adjust scaling as needed\n",
    "        feature['properties']['custom_category'] = unemp_value  # Update custom_category\n",
    "    else:\n",
    "        feature['properties']['unemp'] = None  # or any default value if 'fips' not in df\n",
    "        feature['properties']['custom_category'] = None  # or any default value for custom_category\n",
    "    counties['features'][i] = feature\n",
    "\n",
    "# Normalize 'unemp' values between 0 and 1, handling None values\n",
    "max_unemp = df['unemp'].max()\n",
    "min_unemp = df['unemp'].min()\n",
    "counties['features'] = [\n",
    "    {\n",
    "        **feature,\n",
    "        'properties': {\n",
    "            **feature['properties'],\n",
    "            'unemp': ((feature['properties']['unemp'] - min_unemp) / (max_unemp - min_unemp))*500000\n",
    "            if feature['properties']['unemp'] is not None else None\n",
    "        }\n",
    "    }\n",
    "    for feature in counties['features']\n",
    "]\n",
    "\n",
    "# Set the viewport location\n",
    "view_state = pdk.ViewState(\n",
    "    latitude=37.0902,\n",
    "    longitude=-95.7129,\n",
    "    zoom=3,\n",
    "    min_zoom=0,\n",
    "    max_zoom=15,\n",
    "    pitch=0,\n",
    "    bearing=0,\n",
    ")\n",
    "\n",
    "# Create a PolygonLayer for land cover\n",
    "polygon_layer = pdk.Layer(\n",
    "    'PolygonLayer',\n",
    "    LAND_COVER,\n",
    "    stroked=False,\n",
    "    get_polygon='-',\n",
    "    get_fill_color=[0, 0, 0, 20],\n",
    ")\n",
    "\n",
    "\n",
    "TOOLTIP_HTML ={\n",
    "   \"html\": \n",
    "    '<b>Unemployement in U.S. counties</b><br />'+\n",
    "    '<b>County: </b>: {properties.NAME}<br />'+\n",
    "    \"<b>Unemployment Value:</b> {properties.custom_category}\",\n",
    "   \"style\": {\n",
    "        \"backgroundColor\": \"olivedrab\",\n",
    "        \"color\": \"white\"\n",
    "   }\n",
    "}\n",
    "# Create a GeoJsonLayer for the choropleth map\n",
    "geojson_layer = pdk.Layer(\n",
    "    'GeoJsonLayer',\n",
    "    counties,\n",
    "    opacity=0.3,\n",
    "    stroked=False,\n",
    "    filled=True,\n",
    "    extruded=True,\n",
    "    wireframe=True,\n",
    "    get_elevation='properties.unemp',\n",
    "    get_fill_color='[102,properties.custom_category*21,0]',\n",
    "    get_line_color=[0, 0, 0],\n",
    "    auto_highlight=True,\n",
    "    pickable=True,\n",
    "    #tooltip={'html': TOOLTIP_HTML} # Correct property names in the tooltip\n",
    ")\n",
    "\n",
    "# Combine all of it and render a viewport\n",
    "deck = pdk.Deck(layers=[geojson_layer], initial_view_state=view_state, tooltip = TOOLTIP_HTML)\n",
    "deck.to_html(\"pydeck_choropleth_map.html\")"
   ]
  },
  {
   "cell_type": "code",
   "execution_count": null,
   "id": "355f6521-f0ca-4688-b9ed-4568950e8e10",
   "metadata": {},
   "outputs": [],
   "source": [
    "counties['features'][0]\n"
   ]
  },
  {
   "cell_type": "code",
   "execution_count": null,
   "id": "5c9cbb5d-1080-4cb7-b56d-8dce71f580b2",
   "metadata": {},
   "outputs": [],
   "source": [
    "TOOLTIP_HTML"
   ]
  },
  {
   "cell_type": "code",
   "execution_count": null,
   "id": "e905f89a-b9e0-48c7-abe5-0db6ed1fc91a",
   "metadata": {},
   "outputs": [],
   "source": [
    "counties"
   ]
  },
  {
   "cell_type": "code",
   "execution_count": null,
   "id": "4ed33614-2fa8-41a5-bf20-c93f48d3053b",
   "metadata": {},
   "outputs": [],
   "source": []
  },
  {
   "cell_type": "code",
   "execution_count": null,
   "id": "26d6ddfd-1f84-4225-a018-b601b203ceac",
   "metadata": {},
   "outputs": [],
   "source": [
    "# Load county geojson data\n",
    "with urlopen('https://raw.githubusercontent.com/plotly/datasets/master/geojson-counties-fips.json') as response:\n",
    "    counties = json.load(response)\n",
    "\n",
    "# Load unemployment data\n",
    "df = pd.read_csv(\"https://raw.githubusercontent.com/plotly/datasets/master/fips-unemp-16.csv\", dtype={\"fips\": str})\n",
    "\n",
    "# Add a new category 'custom_category' to each feature in the GeoJSON data\n",
    "for feature in counties['features']:\n",
    "    fips = feature['properties']['GEO_ID'][9:]  # Extract FIPS code from GEO_ID\n",
    "    if fips in df['fips'].values:\n",
    "        unemp_value = df[df['fips'] == fips]['unemp'].values[0]  # Get 'unemp' value for the FIPS code\n",
    "        feature['properties']['custom_category'] = unemp_value\n",
    "    else:\n",
    "        feature['properties']['custom_category'] = None  # or any default value if 'fips' not in df\n"
   ]
  },
  {
   "cell_type": "code",
   "execution_count": null,
   "id": "691dc3e8-b99c-40ea-a4e3-79cbf892ad0a",
   "metadata": {},
   "outputs": [],
   "source": [
    "feature['properties']"
   ]
  },
  {
   "cell_type": "code",
   "execution_count": null,
   "id": "0e85da84-a9cf-438b-83da-e7ce27b918e4",
   "metadata": {},
   "outputs": [],
   "source": []
  },
  {
   "cell_type": "code",
   "execution_count": null,
   "id": "5ddb19ff-cb28-4ece-9c76-7052f8769e73",
   "metadata": {},
   "outputs": [],
   "source": []
  },
  {
   "cell_type": "code",
   "execution_count": null,
   "id": "9831b87f-22a5-4092-907a-ef76d3a22856",
   "metadata": {},
   "outputs": [],
   "source": []
  },
  {
   "cell_type": "code",
   "execution_count": null,
   "id": "633f7a04-4f20-4caa-b35b-a25b9cc030d6",
   "metadata": {},
   "outputs": [],
   "source": []
  },
  {
   "cell_type": "code",
   "execution_count": null,
   "id": "ea2bab9c-d615-4bf9-987d-06d4dfa33896",
   "metadata": {},
   "outputs": [],
   "source": []
  },
  {
   "cell_type": "code",
   "execution_count": null,
   "id": "d9a9f70f-604e-42cd-b88e-1538b84d54ea",
   "metadata": {},
   "outputs": [],
   "source": []
  },
  {
   "cell_type": "code",
   "execution_count": null,
   "id": "8d994b26-2a07-4223-9d72-72c95e3548c8",
   "metadata": {},
   "outputs": [],
   "source": []
  },
  {
   "cell_type": "code",
   "execution_count": null,
   "id": "d283172d-cbd0-41f3-84f2-dc88023a6d81",
   "metadata": {},
   "outputs": [],
   "source": []
  },
  {
   "cell_type": "code",
   "execution_count": null,
   "id": "e537c5a2-70e9-4693-bf25-7fede3c86ed5",
   "metadata": {},
   "outputs": [],
   "source": []
  },
  {
   "cell_type": "code",
   "execution_count": null,
   "id": "010eca63-c8f7-4c5f-8b22-14232e7c82ad",
   "metadata": {},
   "outputs": [],
   "source": []
  },
  {
   "cell_type": "code",
   "execution_count": null,
   "id": "831a11fc-701d-42fa-addb-1ea9813b79d8",
   "metadata": {},
   "outputs": [],
   "source": []
  },
  {
   "cell_type": "code",
   "execution_count": null,
   "id": "8a60c9d9-431e-4d03-b3ef-61e055e56f39",
   "metadata": {},
   "outputs": [],
   "source": []
  },
  {
   "cell_type": "code",
   "execution_count": null,
   "id": "39598d4f-7319-45e8-bb82-ff72de0c19a7",
   "metadata": {},
   "outputs": [],
   "source": []
  },
  {
   "cell_type": "code",
   "execution_count": null,
   "id": "e4601897-c2b3-4f1a-aebb-57bc36950ee1",
   "metadata": {},
   "outputs": [],
   "source": []
  },
  {
   "cell_type": "code",
   "execution_count": null,
   "id": "7dde6520-64af-421c-b84e-77c7431bdb3f",
   "metadata": {},
   "outputs": [],
   "source": []
  },
  {
   "cell_type": "code",
   "execution_count": null,
   "id": "f93cda86-fdcd-42e8-9cac-3e7128336dc3",
   "metadata": {},
   "outputs": [],
   "source": []
  },
  {
   "cell_type": "code",
   "execution_count": null,
   "id": "2d8a9060-15b2-4236-9a65-73cd0a8d7ed0",
   "metadata": {},
   "outputs": [],
   "source": []
  },
  {
   "cell_type": "code",
   "execution_count": null,
   "id": "28aad05d-c6d3-4e41-991b-03a3a0602736",
   "metadata": {},
   "outputs": [],
   "source": []
  },
  {
   "cell_type": "code",
   "execution_count": null,
   "id": "76f368b5-4f80-4352-bedc-13e69404b882",
   "metadata": {},
   "outputs": [],
   "source": []
  },
  {
   "cell_type": "code",
   "execution_count": null,
   "id": "a480cad7-c4bf-4175-8af8-01876cd3c4dd",
   "metadata": {},
   "outputs": [],
   "source": []
  },
  {
   "cell_type": "code",
   "execution_count": null,
   "id": "3ac9a13f-4512-4b2d-869a-ee52f544015e",
   "metadata": {},
   "outputs": [],
   "source": []
  },
  {
   "cell_type": "code",
   "execution_count": null,
   "id": "5b964930-a491-4683-9a86-e090d8100097",
   "metadata": {},
   "outputs": [],
   "source": []
  },
  {
   "cell_type": "code",
   "execution_count": null,
   "id": "36c670bc-ef86-4909-895a-4b2e414d6ffb",
   "metadata": {},
   "outputs": [],
   "source": []
  },
  {
   "cell_type": "code",
   "execution_count": null,
   "id": "baf73ef9-5dd8-47af-a2b1-279746dca3d4",
   "metadata": {},
   "outputs": [],
   "source": []
  },
  {
   "cell_type": "code",
   "execution_count": null,
   "id": "6571b0b0-f221-42fa-8980-d2728aea10f1",
   "metadata": {},
   "outputs": [],
   "source": []
  },
  {
   "cell_type": "code",
   "execution_count": null,
   "id": "68dcce2a-df6d-4576-b45b-f4c3ef33a7c8",
   "metadata": {},
   "outputs": [],
   "source": []
  },
  {
   "cell_type": "code",
   "execution_count": null,
   "id": "66e9a676-2bfe-467c-aed3-b59e71c0b602",
   "metadata": {},
   "outputs": [],
   "source": []
  },
  {
   "cell_type": "code",
   "execution_count": null,
   "id": "3d839a71-511d-4730-9d6b-386c93b62ae2",
   "metadata": {},
   "outputs": [],
   "source": []
  },
  {
   "cell_type": "code",
   "execution_count": null,
   "id": "a83413f6-ee1f-4896-b0f9-f2c9885ef274",
   "metadata": {},
   "outputs": [],
   "source": []
  },
  {
   "cell_type": "code",
   "execution_count": null,
   "id": "d1c003f1-9933-4e2f-a9d3-2e23b7d1aeda",
   "metadata": {},
   "outputs": [],
   "source": []
  },
  {
   "cell_type": "code",
   "execution_count": null,
   "id": "a1b2be30-a925-4063-b0f8-d1be3e5f2385",
   "metadata": {},
   "outputs": [],
   "source": []
  },
  {
   "cell_type": "code",
   "execution_count": null,
   "id": "63e9e92b-679d-47eb-a3db-f1a50076a41c",
   "metadata": {},
   "outputs": [],
   "source": []
  },
  {
   "cell_type": "code",
   "execution_count": null,
   "id": "e0935a5c-43f4-4014-9700-174d10b59d72",
   "metadata": {},
   "outputs": [],
   "source": []
  },
  {
   "cell_type": "code",
   "execution_count": null,
   "id": "62fe432a-85e6-41a2-943e-78fe4837a6f5",
   "metadata": {},
   "outputs": [],
   "source": []
  },
  {
   "cell_type": "code",
   "execution_count": null,
   "id": "5d934496-89bf-4c31-b313-5887c8b7adee",
   "metadata": {},
   "outputs": [],
   "source": []
  },
  {
   "cell_type": "code",
   "execution_count": null,
   "id": "4ba1dbd9-9ca0-404a-b76c-db2b90340a29",
   "metadata": {},
   "outputs": [],
   "source": []
  },
  {
   "cell_type": "code",
   "execution_count": null,
   "id": "9914e21c-3f43-4437-bf70-2824d849d190",
   "metadata": {},
   "outputs": [],
   "source": []
  },
  {
   "cell_type": "code",
   "execution_count": null,
   "id": "73dfe72d-ab6e-4d69-b5db-3eb3b664de07",
   "metadata": {},
   "outputs": [],
   "source": []
  },
  {
   "cell_type": "code",
   "execution_count": null,
   "id": "47059d60-52da-4ac7-b2e1-3701344b482d",
   "metadata": {},
   "outputs": [],
   "source": []
  },
  {
   "cell_type": "code",
   "execution_count": null,
   "id": "dc7f0800-ecf4-4db8-8fb2-6fd9cd035545",
   "metadata": {},
   "outputs": [],
   "source": []
  },
  {
   "cell_type": "code",
   "execution_count": null,
   "id": "2ca6612c-73e1-493e-b7b4-ba25371323e3",
   "metadata": {},
   "outputs": [],
   "source": []
  },
  {
   "cell_type": "code",
   "execution_count": null,
   "id": "e5ceb04c-a951-4eab-abd7-25024b278690",
   "metadata": {},
   "outputs": [],
   "source": []
  },
  {
   "cell_type": "code",
   "execution_count": null,
   "id": "cfaf8e15-85dd-4ebc-a373-7ffc79f3159a",
   "metadata": {},
   "outputs": [],
   "source": []
  },
  {
   "cell_type": "code",
   "execution_count": null,
   "id": "608896f5-dbb4-42b8-838e-5a68896d4ded",
   "metadata": {},
   "outputs": [],
   "source": []
  },
  {
   "cell_type": "code",
   "execution_count": null,
   "id": "9ac59f09-d78e-4c73-b059-0070157c81af",
   "metadata": {},
   "outputs": [],
   "source": []
  },
  {
   "cell_type": "code",
   "execution_count": null,
   "id": "a61cfcd9-7daf-42fb-a6a6-c0e8eb6f08e1",
   "metadata": {},
   "outputs": [],
   "source": []
  },
  {
   "cell_type": "code",
   "execution_count": null,
   "id": "c279ae7d-5fd0-4e03-ad96-784a28eaf711",
   "metadata": {},
   "outputs": [],
   "source": []
  },
  {
   "cell_type": "code",
   "execution_count": null,
   "id": "aaa7e50c-1b14-4f96-9324-774d46a8c73b",
   "metadata": {},
   "outputs": [],
   "source": []
  },
  {
   "cell_type": "code",
   "execution_count": null,
   "id": "18f8c286-e1af-4567-82b9-7900897c3cf8",
   "metadata": {},
   "outputs": [],
   "source": []
  },
  {
   "cell_type": "code",
   "execution_count": null,
   "id": "6978bac6-9edb-4d14-bd59-3a27b7885191",
   "metadata": {},
   "outputs": [],
   "source": []
  },
  {
   "cell_type": "code",
   "execution_count": null,
   "id": "9a157a99-b175-4b4f-ade1-e64d83747338",
   "metadata": {},
   "outputs": [],
   "source": []
  },
  {
   "cell_type": "code",
   "execution_count": null,
   "id": "5b1e8162-ea76-42a3-a5b1-8bbd8a0f609a",
   "metadata": {},
   "outputs": [],
   "source": []
  },
  {
   "cell_type": "code",
   "execution_count": null,
   "id": "a7ce71b0-21cb-4e2d-a7c1-25f02158b5e3",
   "metadata": {},
   "outputs": [],
   "source": []
  },
  {
   "cell_type": "code",
   "execution_count": null,
   "id": "4b91cf30-5135-4c72-8312-5d4d193dab03",
   "metadata": {},
   "outputs": [],
   "source": []
  },
  {
   "cell_type": "code",
   "execution_count": null,
   "id": "6399afc3-79fd-4c16-be62-3761088d04a1",
   "metadata": {},
   "outputs": [],
   "source": []
  },
  {
   "cell_type": "code",
   "execution_count": null,
   "id": "a60b95e4-841a-4f9d-9967-603653976f3e",
   "metadata": {},
   "outputs": [],
   "source": []
  },
  {
   "cell_type": "code",
   "execution_count": null,
   "id": "f2416f74-cfb6-4905-b1b0-d46b4428a1d3",
   "metadata": {},
   "outputs": [],
   "source": []
  },
  {
   "cell_type": "code",
   "execution_count": null,
   "id": "5625b7b9-be5a-465a-bde2-0eb1ef1882df",
   "metadata": {},
   "outputs": [],
   "source": []
  },
  {
   "cell_type": "code",
   "execution_count": null,
   "id": "214b367d-c570-42bb-b162-f2781d6a5344",
   "metadata": {},
   "outputs": [],
   "source": []
  },
  {
   "cell_type": "code",
   "execution_count": null,
   "id": "af650408-8930-4e0a-9f2f-d8ad2e502903",
   "metadata": {},
   "outputs": [],
   "source": []
  },
  {
   "cell_type": "code",
   "execution_count": null,
   "id": "5c0e77f3-2dc3-4a5a-8de8-558bc1af8726",
   "metadata": {},
   "outputs": [],
   "source": []
  },
  {
   "cell_type": "code",
   "execution_count": null,
   "id": "2c0f5c9b-3173-449d-b5a2-4f0be5f079c1",
   "metadata": {},
   "outputs": [],
   "source": []
  },
  {
   "cell_type": "code",
   "execution_count": null,
   "id": "0209b7c1-f5b8-4192-b829-8bd5f95b20b9",
   "metadata": {},
   "outputs": [],
   "source": []
  },
  {
   "cell_type": "code",
   "execution_count": null,
   "id": "cc548e6c-cb1d-4693-8fb5-ff840dba3aa0",
   "metadata": {},
   "outputs": [],
   "source": []
  }
 ],
 "metadata": {
  "kernelspec": {
   "display_name": "Python 3 (ipykernel)",
   "language": "python",
   "name": "python3"
  },
  "language_info": {
   "codemirror_mode": {
    "name": "ipython",
    "version": 3
   },
   "file_extension": ".py",
   "mimetype": "text/x-python",
   "name": "python",
   "nbconvert_exporter": "python",
   "pygments_lexer": "ipython3",
   "version": "3.12.0"
  }
 },
 "nbformat": 4,
 "nbformat_minor": 5
}
